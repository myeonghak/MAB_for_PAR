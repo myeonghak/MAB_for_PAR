{
 "cells": [
  {
   "cell_type": "code",
   "execution_count": null,
   "metadata": {},
   "outputs": [],
   "source": [
    "# https://github.com/kilolgupta/Contextual-Bandits-for-News-Recommendaion/blob/master/Contextual%20Bandits%20for%20News%20Recommendation.ipynb"
   ]
  },
  {
   "cell_type": "code",
   "execution_count": 1,
   "metadata": {},
   "outputs": [],
   "source": [
    "import pandas as pd\n",
    "import numpy as np\n",
    "import os\n",
    "import random\n",
    "import math\n",
    "import datetime\n",
    "import matplotlib.pyplot as plt"
   ]
  },
  {
   "cell_type": "code",
   "execution_count": 2,
   "metadata": {},
   "outputs": [],
   "source": [
    "DATA_FILE_1 = \"dataset.txt\"\n",
    "DATA_FILE_2 = \"dataset_2.txt\"\n"
   ]
  },
  {
   "cell_type": "code",
   "execution_count": 4,
   "metadata": {},
   "outputs": [],
   "source": [
    "times=[x+2 for x in range(10)]"
   ]
  },
  {
   "cell_type": "code",
   "execution_count": 5,
   "metadata": {},
   "outputs": [
    {
     "data": {
      "text/plain": [
       "[2, 3, 4, 5, 6, 7, 8, 9, 10, 11]"
      ]
     },
     "execution_count": 5,
     "metadata": {},
     "output_type": "execute_result"
    }
   ],
   "source": [
    "times"
   ]
  },
  {
   "cell_type": "code",
   "execution_count": 9,
   "metadata": {},
   "outputs": [],
   "source": [
    "\n",
    "def plot_cumulative_take_rate(cumulative_take_rates):\n",
    "    times = [x+2 for x in range(9999)]\n",
    "    y = []\n",
    "    for t in times:\n",
    "        y.append(cumulative_take_rates[t])\n",
    "    x = np.asarray(times)\n",
    "    y = np.asarray(y)\n",
    "    plt.plot(x, y)\n",
    "    max_index = np.argmax(y)\n",
    "    max_ctr = y[max_index]\n",
    "    max_alpha = x[max_index]\n",
    "    plt.plot(max_alpha, max_ctr, 'r*')\n",
    "    plt.show()"
   ]
  },
  {
   "cell_type": "markdown",
   "metadata": {},
   "source": [
    "Below is the strategy one for choosing alpha which is time based. \n",
    "'alpha' is calculated at each time step and is not a constant throughout the realm of the code."
   ]
  },
  {
   "cell_type": "code",
   "execution_count": 10,
   "metadata": {},
   "outputs": [],
   "source": [
    "def find_optimal_alpha_1(time):\n",
    "    return 1/np.sqrt(time)"
   ]
  },
  {
   "cell_type": "code",
   "execution_count": 11,
   "metadata": {},
   "outputs": [],
   "source": [
    "def LinUCB_modified(data_file, alpha=0.0, plot_or_not=True):\n",
    "    articles = [1, 2, 3, 4, 5, 6, 7, 8, 9, 10]\n",
    "    T = [x+2 for x in range(9999)]\n",
    "    m = 10 # number of articles\n",
    "    d = 100 # number of features\n",
    "    total_payoff = 0.0\n",
    "    time = 1 # to plot time series\n",
    "    ctrs = {} # dict of time vs cumulative take rates\n",
    "    ctr_num = 0.0 # initialising the CTR numerator\n",
    "    ctr_den = 1.0 # initialising the CTR denominator\n",
    "    matches = 0.0 # to record the number of matches between predicted arm and actual arm\n",
    "    first = True\n",
    "    \n",
    "    with open(data_file, 'r') as data_file:\n",
    "        lines = data_file.readlines()\n",
    "        for line in lines:\n",
    "            features = line.split(' ')\n",
    "            real_article_chosen = features[0]\n",
    "            reward = features[1]\n",
    "            features = features[2:102]\n",
    "            if first:\n",
    "                first = False\n",
    "                A = np.zeros((m, d, d))\n",
    "                for a in range(10):\n",
    "                    A[a] = np.eye(d)\n",
    "                b = np.zeros((m, d, 1))\n",
    "            ratings = np.zeros(m)\n",
    "            for a in range(10):\n",
    "                A_inv = np.linalg.inv(A[a])\n",
    "                theta_a = A_inv.dot(b[a])\n",
    "                features = np.asarray(features).astype(int)\n",
    "                features = np.reshape(features, (100, 1))\n",
    "                # uncomment the below when you want alpha based on time (1/sqrt(T))\n",
    "                #alpha = find_optimal_alpha_1(time) \n",
    "                ratings[a] = np.matmul(theta_a.T, features) + alpha * np.sqrt(np.matmul(np.matmul(features.T, A_inv), features))\n",
    "            chosen_article = articles[np.random.choice(np.flatnonzero(ratings == ratings.max()))]\n",
    "            if int(chosen_article) == int(real_article_chosen):\n",
    "                # print(\"match at:\",time)\n",
    "                matches += 1.0\n",
    "                total_payoff += float(reward)\n",
    "                A[int(real_article_chosen)-1] += features.dot(features.T)\n",
    "                b[int(real_article_chosen)-1] = b[int(real_article_chosen)-1] + int(reward)* features\n",
    "                ctr_num += int(reward)\n",
    "                # to account for the 1.0 initialization of ctr_den instead of 0.0\n",
    "                if ctr_den != 0.0:\n",
    "                    ctr_den += 1\n",
    "                ctrs[time] = ctr_num/(1.0*ctr_den)\n",
    "            else:\n",
    "                ctrs[time] = ctr_num/(1.0*ctr_den)\n",
    "            time += 1\n",
    "    if plot_or_not:\n",
    "        plot_cumulative_take_rate(ctrs)\n",
    "    total_payoff /= matches\n",
    "    return (ctrs[10000], total_payoff)"
   ]
  },
  {
   "cell_type": "markdown",
   "metadata": {},
   "source": [
    "Because of the random nature of ties breaking during finding the argmax in the initial call to LinUCB function, \n",
    "we use below function to find an average Cumulative take rate and payoff."
   ]
  },
  {
   "cell_type": "code",
   "execution_count": 12,
   "metadata": {},
   "outputs": [],
   "source": [
    "\n",
    "def call_LinUCB(data_file, number, alpha=0.0):\n",
    "    sum_ctr = 0.0\n",
    "    sum_payoff = 0.0\n",
    "    for i in range(number):\n",
    "        ctr, payoff = LinUCB_modified(data_file)\n",
    "        sum_ctr += ctr\n",
    "        sum_payoff += payoff\n",
    "    return sum_ctr/number, sum_payoff/number"
   ]
  },
  {
   "cell_type": "markdown",
   "metadata": {},
   "source": [
    "\n",
    "Dataset 1:\n",
    "\n",
    "Below is the timeseries plot of time vs Cumulative take rate when alpha is chosen using the formula: 1/sqrt(T) \n",
    "    i.e. alpha is essentially different at every time step and not a constant in contrast to the other approaches of choosing alpha. \n",
    "    Because of this, there are three plots but the overall CTR value is averaged out and used to see how good or bad \n",
    "    this approach of choosing alpha is.\n",
    "\n",
    "As expected, the cumulative take rate and total payoff values are roughly the same because they essentially follow the same formula:\n",
    "    Ratio of the successful arms and the number of matches. They are implemented differently to plot the time vs take rate plot."
   ]
  },
  {
   "cell_type": "code",
   "execution_count": 11,
   "metadata": {},
   "outputs": [
    {
     "data": {
      "text/html": [
       "<div>\n",
       "<style scoped>\n",
       "    .dataframe tbody tr th:only-of-type {\n",
       "        vertical-align: middle;\n",
       "    }\n",
       "\n",
       "    .dataframe tbody tr th {\n",
       "        vertical-align: top;\n",
       "    }\n",
       "\n",
       "    .dataframe thead th {\n",
       "        text-align: right;\n",
       "    }\n",
       "</style>\n",
       "<table border=\"1\" class=\"dataframe\">\n",
       "  <thead>\n",
       "    <tr style=\"text-align: right;\">\n",
       "      <th></th>\n",
       "      <th>2</th>\n",
       "      <th>0</th>\n",
       "      <th>5</th>\n",
       "      <th>0.1</th>\n",
       "      <th>0.2</th>\n",
       "      <th>37</th>\n",
       "      <th>6</th>\n",
       "      <th>0.3</th>\n",
       "      <th>0.4</th>\n",
       "      <th>0.5</th>\n",
       "      <th>...</th>\n",
       "      <th>0.64</th>\n",
       "      <th>1.7</th>\n",
       "      <th>3.2</th>\n",
       "      <th>0.65</th>\n",
       "      <th>0.66</th>\n",
       "      <th>17</th>\n",
       "      <th>30</th>\n",
       "      <th>4.1</th>\n",
       "      <th>0.67</th>\n",
       "      <th>Unnamed: 102</th>\n",
       "    </tr>\n",
       "  </thead>\n",
       "  <tbody>\n",
       "    <tr>\n",
       "      <td>0</td>\n",
       "      <td>8</td>\n",
       "      <td>0</td>\n",
       "      <td>1</td>\n",
       "      <td>3</td>\n",
       "      <td>36</td>\n",
       "      <td>0</td>\n",
       "      <td>0</td>\n",
       "      <td>0</td>\n",
       "      <td>0</td>\n",
       "      <td>0</td>\n",
       "      <td>...</td>\n",
       "      <td>0</td>\n",
       "      <td>3</td>\n",
       "      <td>0</td>\n",
       "      <td>1</td>\n",
       "      <td>5</td>\n",
       "      <td>1</td>\n",
       "      <td>0</td>\n",
       "      <td>0</td>\n",
       "      <td>10</td>\n",
       "      <td>NaN</td>\n",
       "    </tr>\n",
       "    <tr>\n",
       "      <td>1</td>\n",
       "      <td>5</td>\n",
       "      <td>0</td>\n",
       "      <td>3</td>\n",
       "      <td>0</td>\n",
       "      <td>0</td>\n",
       "      <td>0</td>\n",
       "      <td>0</td>\n",
       "      <td>0</td>\n",
       "      <td>0</td>\n",
       "      <td>0</td>\n",
       "      <td>...</td>\n",
       "      <td>0</td>\n",
       "      <td>0</td>\n",
       "      <td>0</td>\n",
       "      <td>23</td>\n",
       "      <td>0</td>\n",
       "      <td>11</td>\n",
       "      <td>3</td>\n",
       "      <td>0</td>\n",
       "      <td>0</td>\n",
       "      <td>NaN</td>\n",
       "    </tr>\n",
       "    <tr>\n",
       "      <td>2</td>\n",
       "      <td>4</td>\n",
       "      <td>0</td>\n",
       "      <td>77</td>\n",
       "      <td>0</td>\n",
       "      <td>0</td>\n",
       "      <td>13</td>\n",
       "      <td>0</td>\n",
       "      <td>0</td>\n",
       "      <td>0</td>\n",
       "      <td>0</td>\n",
       "      <td>...</td>\n",
       "      <td>5</td>\n",
       "      <td>0</td>\n",
       "      <td>0</td>\n",
       "      <td>0</td>\n",
       "      <td>2</td>\n",
       "      <td>4</td>\n",
       "      <td>0</td>\n",
       "      <td>0</td>\n",
       "      <td>0</td>\n",
       "      <td>NaN</td>\n",
       "    </tr>\n",
       "    <tr>\n",
       "      <td>3</td>\n",
       "      <td>2</td>\n",
       "      <td>1</td>\n",
       "      <td>43</td>\n",
       "      <td>0</td>\n",
       "      <td>2</td>\n",
       "      <td>44</td>\n",
       "      <td>1</td>\n",
       "      <td>0</td>\n",
       "      <td>0</td>\n",
       "      <td>0</td>\n",
       "      <td>...</td>\n",
       "      <td>0</td>\n",
       "      <td>0</td>\n",
       "      <td>0</td>\n",
       "      <td>0</td>\n",
       "      <td>0</td>\n",
       "      <td>0</td>\n",
       "      <td>13</td>\n",
       "      <td>0</td>\n",
       "      <td>0</td>\n",
       "      <td>NaN</td>\n",
       "    </tr>\n",
       "    <tr>\n",
       "      <td>4</td>\n",
       "      <td>3</td>\n",
       "      <td>0</td>\n",
       "      <td>0</td>\n",
       "      <td>0</td>\n",
       "      <td>0</td>\n",
       "      <td>0</td>\n",
       "      <td>0</td>\n",
       "      <td>70</td>\n",
       "      <td>0</td>\n",
       "      <td>0</td>\n",
       "      <td>...</td>\n",
       "      <td>2</td>\n",
       "      <td>3</td>\n",
       "      <td>0</td>\n",
       "      <td>0</td>\n",
       "      <td>0</td>\n",
       "      <td>0</td>\n",
       "      <td>1</td>\n",
       "      <td>9</td>\n",
       "      <td>8</td>\n",
       "      <td>NaN</td>\n",
       "    </tr>\n",
       "    <tr>\n",
       "      <td>...</td>\n",
       "      <td>...</td>\n",
       "      <td>...</td>\n",
       "      <td>...</td>\n",
       "      <td>...</td>\n",
       "      <td>...</td>\n",
       "      <td>...</td>\n",
       "      <td>...</td>\n",
       "      <td>...</td>\n",
       "      <td>...</td>\n",
       "      <td>...</td>\n",
       "      <td>...</td>\n",
       "      <td>...</td>\n",
       "      <td>...</td>\n",
       "      <td>...</td>\n",
       "      <td>...</td>\n",
       "      <td>...</td>\n",
       "      <td>...</td>\n",
       "      <td>...</td>\n",
       "      <td>...</td>\n",
       "      <td>...</td>\n",
       "      <td>...</td>\n",
       "    </tr>\n",
       "    <tr>\n",
       "      <td>9994</td>\n",
       "      <td>1</td>\n",
       "      <td>0</td>\n",
       "      <td>0</td>\n",
       "      <td>3</td>\n",
       "      <td>29</td>\n",
       "      <td>0</td>\n",
       "      <td>0</td>\n",
       "      <td>0</td>\n",
       "      <td>0</td>\n",
       "      <td>0</td>\n",
       "      <td>...</td>\n",
       "      <td>0</td>\n",
       "      <td>4</td>\n",
       "      <td>0</td>\n",
       "      <td>5</td>\n",
       "      <td>8</td>\n",
       "      <td>1</td>\n",
       "      <td>0</td>\n",
       "      <td>0</td>\n",
       "      <td>9</td>\n",
       "      <td>NaN</td>\n",
       "    </tr>\n",
       "    <tr>\n",
       "      <td>9995</td>\n",
       "      <td>2</td>\n",
       "      <td>0</td>\n",
       "      <td>1</td>\n",
       "      <td>0</td>\n",
       "      <td>29</td>\n",
       "      <td>0</td>\n",
       "      <td>0</td>\n",
       "      <td>0</td>\n",
       "      <td>0</td>\n",
       "      <td>0</td>\n",
       "      <td>...</td>\n",
       "      <td>0</td>\n",
       "      <td>7</td>\n",
       "      <td>0</td>\n",
       "      <td>2</td>\n",
       "      <td>2</td>\n",
       "      <td>0</td>\n",
       "      <td>0</td>\n",
       "      <td>0</td>\n",
       "      <td>13</td>\n",
       "      <td>NaN</td>\n",
       "    </tr>\n",
       "    <tr>\n",
       "      <td>9996</td>\n",
       "      <td>9</td>\n",
       "      <td>1</td>\n",
       "      <td>79</td>\n",
       "      <td>0</td>\n",
       "      <td>0</td>\n",
       "      <td>17</td>\n",
       "      <td>0</td>\n",
       "      <td>0</td>\n",
       "      <td>0</td>\n",
       "      <td>0</td>\n",
       "      <td>...</td>\n",
       "      <td>4</td>\n",
       "      <td>0</td>\n",
       "      <td>1</td>\n",
       "      <td>0</td>\n",
       "      <td>3</td>\n",
       "      <td>9</td>\n",
       "      <td>0</td>\n",
       "      <td>0</td>\n",
       "      <td>0</td>\n",
       "      <td>NaN</td>\n",
       "    </tr>\n",
       "    <tr>\n",
       "      <td>9997</td>\n",
       "      <td>4</td>\n",
       "      <td>0</td>\n",
       "      <td>29</td>\n",
       "      <td>0</td>\n",
       "      <td>2</td>\n",
       "      <td>44</td>\n",
       "      <td>0</td>\n",
       "      <td>0</td>\n",
       "      <td>0</td>\n",
       "      <td>0</td>\n",
       "      <td>...</td>\n",
       "      <td>0</td>\n",
       "      <td>0</td>\n",
       "      <td>0</td>\n",
       "      <td>0</td>\n",
       "      <td>0</td>\n",
       "      <td>0</td>\n",
       "      <td>17</td>\n",
       "      <td>0</td>\n",
       "      <td>0</td>\n",
       "      <td>NaN</td>\n",
       "    </tr>\n",
       "    <tr>\n",
       "      <td>9998</td>\n",
       "      <td>4</td>\n",
       "      <td>0</td>\n",
       "      <td>0</td>\n",
       "      <td>2</td>\n",
       "      <td>35</td>\n",
       "      <td>0</td>\n",
       "      <td>0</td>\n",
       "      <td>0</td>\n",
       "      <td>0</td>\n",
       "      <td>0</td>\n",
       "      <td>...</td>\n",
       "      <td>0</td>\n",
       "      <td>6</td>\n",
       "      <td>0</td>\n",
       "      <td>0</td>\n",
       "      <td>6</td>\n",
       "      <td>0</td>\n",
       "      <td>0</td>\n",
       "      <td>0</td>\n",
       "      <td>12</td>\n",
       "      <td>NaN</td>\n",
       "    </tr>\n",
       "  </tbody>\n",
       "</table>\n",
       "<p>9999 rows × 103 columns</p>\n",
       "</div>"
      ],
      "text/plain": [
       "      2  0   5  0.1  0.2  37  6  0.3  0.4  0.5  ...  0.64  1.7  3.2  0.65  \\\n",
       "0     8  0   1    3   36   0  0    0    0    0  ...     0    3    0     1   \n",
       "1     5  0   3    0    0   0  0    0    0    0  ...     0    0    0    23   \n",
       "2     4  0  77    0    0  13  0    0    0    0  ...     5    0    0     0   \n",
       "3     2  1  43    0    2  44  1    0    0    0  ...     0    0    0     0   \n",
       "4     3  0   0    0    0   0  0   70    0    0  ...     2    3    0     0   \n",
       "...  .. ..  ..  ...  ...  .. ..  ...  ...  ...  ...   ...  ...  ...   ...   \n",
       "9994  1  0   0    3   29   0  0    0    0    0  ...     0    4    0     5   \n",
       "9995  2  0   1    0   29   0  0    0    0    0  ...     0    7    0     2   \n",
       "9996  9  1  79    0    0  17  0    0    0    0  ...     4    0    1     0   \n",
       "9997  4  0  29    0    2  44  0    0    0    0  ...     0    0    0     0   \n",
       "9998  4  0   0    2   35   0  0    0    0    0  ...     0    6    0     0   \n",
       "\n",
       "      0.66  17  30  4.1  0.67  Unnamed: 102  \n",
       "0        5   1   0    0    10           NaN  \n",
       "1        0  11   3    0     0           NaN  \n",
       "2        2   4   0    0     0           NaN  \n",
       "3        0   0  13    0     0           NaN  \n",
       "4        0   0   1    9     8           NaN  \n",
       "...    ...  ..  ..  ...   ...           ...  \n",
       "9994     8   1   0    0     9           NaN  \n",
       "9995     2   0   0    0    13           NaN  \n",
       "9996     3   9   0    0     0           NaN  \n",
       "9997     0   0  17    0     0           NaN  \n",
       "9998     6   0   0    0    12           NaN  \n",
       "\n",
       "[9999 rows x 103 columns]"
      ]
     },
     "execution_count": 11,
     "metadata": {},
     "output_type": "execute_result"
    }
   ],
   "source": [
    "import pandas as pd\n",
    "pd.read_csv(DATA_FILE_1,delimiter=\" \")"
   ]
  },
  {
   "cell_type": "code",
   "execution_count": 13,
   "metadata": {},
   "outputs": [
    {
     "data": {
      "image/png": "[encoded data removed]",
      "text/plain": [
       "<Figure size 432x288 with 1 Axes>"
      ]
     },
     "metadata": {
      "needs_background": "light"
     },
     "output_type": "display_data"
    },
    {
     "data": {
      "image/png": "[encoded data removed]",
      "text/plain": [
       "<Figure size 432x288 with 1 Axes>"
      ]
     },
     "metadata": {
      "needs_background": "light"
     },
     "output_type": "display_data"
    },
    {
     "data": {
      "image/png": "[encoded data removed]",
      "text/plain": [
       "<Figure size 432x288 with 1 Axes>"
      ]
     },
     "metadata": {
      "needs_background": "light"
     },
     "output_type": "display_data"
    },
    {
     "name": "stdout",
     "output_type": "stream",
     "text": [
      "Cumulative Take rate: 0.8201115311829197, Total Payoff: 0.8209024248098675\n",
      "Wall time: 2min 53s\n"
     ]
    }
   ],
   "source": [
    "%%time\n",
    "(ctr, payoff) = call_LinUCB(DATA_FILE_1, 3)\n",
    "print(\"Cumulative Take rate: \" + str(ctr) + \", Total Payoff: \" + str(payoff))"
   ]
  },
  {
   "cell_type": "markdown",
   "metadata": {},
   "source": [
    "Cumulative Take rate: 0.9165103576099977, Total Payoff: 0.9173907848404492\n",
    "CPU times: user 8min 10s, sys: 5min 29s, total: 13min 40s\n",
    "Wall time: 1min 42s\n",
    "Below is the strategy two of choosing alpha which is a standard grid search. \n",
    "After running single calls, I got an idea of the kind of range which will help reach a good alpha."
   ]
  },
  {
   "cell_type": "code",
   "execution_count": 14,
   "metadata": {},
   "outputs": [],
   "source": [
    "def find_optimal_alpha_2():\n",
    "    values = np.arange(0.0001, 0.02, 0.001)\n",
    "    ctrs = []\n",
    "    for a in values:\n",
    "        ctr, payoff = LinUCB_modified(DATA_FILE_1, alpha=a, plot_or_not=False)\n",
    "        ctrs.append(ctr)\n",
    "        print(str(a) + \"---\" + str(ctr))\n",
    "    x = np.asarray(values)\n",
    "    y = np.asarray(ctrs)\n",
    "    plt.plot(x, y)\n",
    "    max_index = np.argmax(y)\n",
    "    max_ctr = y[max_index]\n",
    "    max_alpha = x[max_index]\n",
    "    print(\"alpha with maximum ctr: \" + str(max_alpha))\n",
    "    plt.plot(max_alpha, max_ctr, 'r*')\n",
    "    plt.show()"
   ]
  },
  {
   "cell_type": "code",
   "execution_count": 15,
   "metadata": {},
   "outputs": [
    {
     "name": "stdout",
     "output_type": "stream",
     "text": [
      "0.0001---0.8951533135509396\n",
      "0.0011---0.9340245051837889\n",
      "0.0021---0.9408914728682171\n",
      "0.0031---0.9517839922854388\n",
      "0.0041---0.943289224952741\n",
      "0.0051---0.9495145631067962\n",
      "0.0061---0.9517839922854388\n",
      "0.0071---0.9498553519768563\n",
      "0.0081---0.9353281853281853\n",
      "0.0091---0.9307692307692308\n",
      "0.0101---0.932573599240266\n",
      "0.011099999999999999---0.9265267175572519\n",
      "0.0121---0.9221032132424537\n",
      "0.0131---0.9233009708737864\n",
      "0.0141---0.9190751445086706\n",
      "0.015099999999999999---0.91796875\n",
      "0.0161---0.9166666666666666\n",
      "0.0171---0.9166666666666666\n",
      "0.0181---0.9153031761308951\n",
      "0.0191---0.9152380952380952\n",
      "alpha with maximum ctr: 0.0031\n"
     ]
    },
    {
     "data": {
      "image/png": "[encoded data removed]",
      "text/plain": [
       "<Figure size 432x288 with 1 Axes>"
      ]
     },
     "metadata": {
      "needs_background": "light"
     },
     "output_type": "display_data"
    }
   ],
   "source": [
    "find_optimal_alpha_2()\n"
   ]
  },
  {
   "cell_type": "markdown",
   "metadata": {},
   "source": [
    "\n",
    "Below is the strategy 3 of finding an optimal alpha. In this strategy, \n",
    "I am using the idea presented in one of the papers that uses a mathematical formula involving delta parameter which arises \n",
    "from trying to find an upper bound on the difference between the actual and expected reward.\n",
    "\n",
    "From the formula, it seemed that alpha will definitely be greater than 1 and delta can't be above 2 as that will make the term under square root as negative which isn't possible. Hence that gives an idea about the bounds. I ran one iteration of the code with alpha = 1 \n",
    "and didn't receive a good value of CTR but this strategy is worth looking at because of its theoretical basis."
   ]
  },
  {
   "cell_type": "code",
   "execution_count": 16,
   "metadata": {},
   "outputs": [],
   "source": [
    "def find_optimal_alpha_3():\n",
    "    deltas = np.arange(1, 2, 0.1)\n",
    "    ctrs = []\n",
    "    for d in deltas:\n",
    "        alpha = 1.0 + np.sqrt(math.log(2.0/d)/2)\n",
    "        ctr, payoff = LinUCB_modified(DATA_FILE_1, alpha, False)\n",
    "        ctrs.append(ctr)\n",
    "        print(str(alpha) + \"---\" + str(ctr))\n",
    "    x = np.asarray(deltas)\n",
    "    y = np.asarray(ctrs)\n",
    "    plt.plot(x, y)\n",
    "    plt.show()"
   ]
  },
  {
   "cell_type": "code",
   "execution_count": 17,
   "metadata": {},
   "outputs": [
    {
     "name": "stdout",
     "output_type": "stream",
     "text": [
      "1.5887050112577374---0.15438247011952191\n",
      "1.5467343965563263---0.1424272818455366\n",
      "1.5053838262973946---0.14560161779575329\n",
      "1.4641028528744755---0.14912280701754385\n",
      "1.4223002154502955---0.15879396984924624\n",
      "1.379263808220466---0.16570327552986513\n",
      "1.3340236154182885---0.16845180136319376\n",
      "1.285060458059141---0.16183816183816183\n",
      "1.22952180251321---0.164\n",
      "1.1601457061359282---0.16424116424116425\n"
     ]
    },
    {
     "data": {
      "image/png": "[encoded data removed]",
      "text/plain": [
       "<Figure size 432x288 with 1 Axes>"
      ]
     },
     "metadata": {
      "needs_background": "light"
     },
     "output_type": "display_data"
    }
   ],
   "source": [
    "find_optimal_alpha_3()\n"
   ]
  },
  {
   "cell_type": "code",
   "execution_count": 18,
   "metadata": {},
   "outputs": [],
   "source": [
    "def LinUCB(data_file, alpha=0.0, plot_or_not=True):\n",
    "    articles = [1, 2, 3, 4, 5, 6, 7, 8, 9, 10]\n",
    "    T = [x+2 for x in range(9999)]\n",
    "    m = 10 # number of articles\n",
    "    d = 100 # number of features\n",
    "    time = 1 # to plot time series\n",
    "    matches = 0.0 # to record the number of matches between predicted arm and actual arm\n",
    "    first = True\n",
    "    with open(data_file, 'r') as data_file:\n",
    "        lines = data_file.readlines()\n",
    "        for line in lines:\n",
    "            features = line.split(' ')\n",
    "            real_article_chosen = features[0]\n",
    "            features = features[1:101]\n",
    "            if first:\n",
    "                first = False\n",
    "                A = np.zeros((m, d, d))\n",
    "                for a in range(10):\n",
    "                    A[a] = np.eye(d)\n",
    "                b = np.zeros((m, d, 1))\n",
    "            ratings = np.zeros(m)\n",
    "            for a in range(10):\n",
    "                A_inv = np.linalg.inv(A[a])\n",
    "                theta_a = A_inv.dot(b[a])\n",
    "                features = np.asarray(features).astype(int)\n",
    "                features = np.reshape(features, (100, 1))\n",
    "                # uncomment the below when you want alpha based on time (1/sqrt(T))\n",
    "                #alpha = find_optimal_alpha_1(time) \n",
    "                ratings[a] = np.matmul(theta_a.T, features) + alpha * np.sqrt(np.matmul(np.matmul(features.T, A_inv), features))\n",
    "            chosen_article = articles[np.random.choice(np.flatnonzero(ratings == ratings.max()))]\n",
    "            if int(chosen_article) == int(real_article_chosen):\n",
    "                #print(\"match at: \" + str(time))\n",
    "                reward = 1.0   \n",
    "                matches += 1.0\n",
    "            else:\n",
    "                reward = 0.0\n",
    "            A[int(chosen_article)-1] += features.dot(features.T)\n",
    "            b[int(chosen_article)-1] = b[int(chosen_article)-1] + int(reward)* features\n",
    "            time += 1\n",
    "    return (matches)"
   ]
  },
  {
   "cell_type": "code",
   "execution_count": 19,
   "metadata": {},
   "outputs": [
    {
     "name": "stdout",
     "output_type": "stream",
     "text": [
      "Overall number of matches: 9929.0\n",
      "Wall time: 1min 3s\n"
     ]
    }
   ],
   "source": [
    "%%time\n",
    "matches = LinUCB(DATA_FILE_2, alpha=0.01)\n",
    "print(\"Overall number of matches: \" + str(matches))"
   ]
  },
  {
   "cell_type": "code",
   "execution_count": null,
   "metadata": {},
   "outputs": [],
   "source": []
  }
 ],
 "metadata": {
  "kernelspec": {
   "display_name": "Python 3",
   "language": "python",
   "name": "python3"
  },
  "language_info": {
   "codemirror_mode": {
    "name": "ipython",
    "version": 3
   },
   "file_extension": ".py",
   "mimetype": "text/x-python",
   "name": "python",
   "nbconvert_exporter": "python",
   "pygments_lexer": "ipython3",
   "version": "3.7.4"
  }
 },
 "nbformat": 4,
 "nbformat_minor": 4
}
